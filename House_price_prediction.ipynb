{
 "cells": [
  {
   "cell_type": "markdown",
   "metadata": {},
   "source": [
    "# Housing "
   ]
  },
  {
   "cell_type": "code",
   "execution_count": 173,
   "metadata": {},
   "outputs": [],
   "source": [
    "import pandas as pd\n",
    "import numpy as np\n",
    "import matplotlib.pyplot as plt"
   ]
  },
  {
   "cell_type": "code",
   "execution_count": 174,
   "metadata": {},
   "outputs": [
    {
     "data": {
      "text/html": [
       "<div>\n",
       "<style scoped>\n",
       "    .dataframe tbody tr th:only-of-type {\n",
       "        vertical-align: middle;\n",
       "    }\n",
       "\n",
       "    .dataframe tbody tr th {\n",
       "        vertical-align: top;\n",
       "    }\n",
       "\n",
       "    .dataframe thead th {\n",
       "        text-align: right;\n",
       "    }\n",
       "</style>\n",
       "<table border=\"1\" class=\"dataframe\">\n",
       "  <thead>\n",
       "    <tr style=\"text-align: right;\">\n",
       "      <th></th>\n",
       "      <th>price</th>\n",
       "      <th>area</th>\n",
       "      <th>bedrooms</th>\n",
       "      <th>bathrooms</th>\n",
       "      <th>stories</th>\n",
       "      <th>mainroad</th>\n",
       "      <th>guestroom</th>\n",
       "      <th>basement</th>\n",
       "      <th>hotwaterheating</th>\n",
       "      <th>airconditioning</th>\n",
       "      <th>parking</th>\n",
       "      <th>prefarea</th>\n",
       "      <th>furnishingstatus</th>\n",
       "    </tr>\n",
       "  </thead>\n",
       "  <tbody>\n",
       "    <tr>\n",
       "      <th>0</th>\n",
       "      <td>13300000</td>\n",
       "      <td>7420</td>\n",
       "      <td>4</td>\n",
       "      <td>2</td>\n",
       "      <td>3</td>\n",
       "      <td>yes</td>\n",
       "      <td>no</td>\n",
       "      <td>no</td>\n",
       "      <td>no</td>\n",
       "      <td>yes</td>\n",
       "      <td>2</td>\n",
       "      <td>yes</td>\n",
       "      <td>furnished</td>\n",
       "    </tr>\n",
       "    <tr>\n",
       "      <th>1</th>\n",
       "      <td>12250000</td>\n",
       "      <td>8960</td>\n",
       "      <td>4</td>\n",
       "      <td>4</td>\n",
       "      <td>4</td>\n",
       "      <td>yes</td>\n",
       "      <td>no</td>\n",
       "      <td>no</td>\n",
       "      <td>no</td>\n",
       "      <td>yes</td>\n",
       "      <td>3</td>\n",
       "      <td>no</td>\n",
       "      <td>furnished</td>\n",
       "    </tr>\n",
       "    <tr>\n",
       "      <th>2</th>\n",
       "      <td>12250000</td>\n",
       "      <td>9960</td>\n",
       "      <td>3</td>\n",
       "      <td>2</td>\n",
       "      <td>2</td>\n",
       "      <td>yes</td>\n",
       "      <td>no</td>\n",
       "      <td>yes</td>\n",
       "      <td>no</td>\n",
       "      <td>no</td>\n",
       "      <td>2</td>\n",
       "      <td>yes</td>\n",
       "      <td>semi-furnished</td>\n",
       "    </tr>\n",
       "    <tr>\n",
       "      <th>3</th>\n",
       "      <td>12215000</td>\n",
       "      <td>7500</td>\n",
       "      <td>4</td>\n",
       "      <td>2</td>\n",
       "      <td>2</td>\n",
       "      <td>yes</td>\n",
       "      <td>no</td>\n",
       "      <td>yes</td>\n",
       "      <td>no</td>\n",
       "      <td>yes</td>\n",
       "      <td>3</td>\n",
       "      <td>yes</td>\n",
       "      <td>furnished</td>\n",
       "    </tr>\n",
       "    <tr>\n",
       "      <th>4</th>\n",
       "      <td>11410000</td>\n",
       "      <td>7420</td>\n",
       "      <td>4</td>\n",
       "      <td>1</td>\n",
       "      <td>2</td>\n",
       "      <td>yes</td>\n",
       "      <td>yes</td>\n",
       "      <td>yes</td>\n",
       "      <td>no</td>\n",
       "      <td>yes</td>\n",
       "      <td>2</td>\n",
       "      <td>no</td>\n",
       "      <td>furnished</td>\n",
       "    </tr>\n",
       "  </tbody>\n",
       "</table>\n",
       "</div>"
      ],
      "text/plain": [
       "      price  area  bedrooms  bathrooms  stories mainroad guestroom basement  \\\n",
       "0  13300000  7420         4          2        3      yes        no       no   \n",
       "1  12250000  8960         4          4        4      yes        no       no   \n",
       "2  12250000  9960         3          2        2      yes        no      yes   \n",
       "3  12215000  7500         4          2        2      yes        no      yes   \n",
       "4  11410000  7420         4          1        2      yes       yes      yes   \n",
       "\n",
       "  hotwaterheating airconditioning  parking prefarea furnishingstatus  \n",
       "0              no             yes        2      yes        furnished  \n",
       "1              no             yes        3       no        furnished  \n",
       "2              no              no        2      yes   semi-furnished  \n",
       "3              no             yes        3      yes        furnished  \n",
       "4              no             yes        2       no        furnished  "
      ]
     },
     "execution_count": 174,
     "metadata": {},
     "output_type": "execute_result"
    }
   ],
   "source": [
    "hs= pd.read_csv(\"Housing.csv\")\n",
    "hs.head()"
   ]
  },
  {
   "cell_type": "code",
   "execution_count": 175,
   "metadata": {},
   "outputs": [
    {
     "data": {
      "text/plain": [
       "(545, 13)"
      ]
     },
     "execution_count": 175,
     "metadata": {},
     "output_type": "execute_result"
    }
   ],
   "source": [
    "hs.shape"
   ]
  },
  {
   "cell_type": "code",
   "execution_count": 176,
   "metadata": {},
   "outputs": [
    {
     "data": {
      "text/html": [
       "<div>\n",
       "<style scoped>\n",
       "    .dataframe tbody tr th:only-of-type {\n",
       "        vertical-align: middle;\n",
       "    }\n",
       "\n",
       "    .dataframe tbody tr th {\n",
       "        vertical-align: top;\n",
       "    }\n",
       "\n",
       "    .dataframe thead th {\n",
       "        text-align: right;\n",
       "    }\n",
       "</style>\n",
       "<table border=\"1\" class=\"dataframe\">\n",
       "  <thead>\n",
       "    <tr style=\"text-align: right;\">\n",
       "      <th></th>\n",
       "      <th>price</th>\n",
       "      <th>area</th>\n",
       "      <th>bedrooms</th>\n",
       "      <th>bathrooms</th>\n",
       "      <th>stories</th>\n",
       "      <th>parking</th>\n",
       "    </tr>\n",
       "  </thead>\n",
       "  <tbody>\n",
       "    <tr>\n",
       "      <th>count</th>\n",
       "      <td>5.450000e+02</td>\n",
       "      <td>545.000000</td>\n",
       "      <td>545.000000</td>\n",
       "      <td>545.000000</td>\n",
       "      <td>545.000000</td>\n",
       "      <td>545.000000</td>\n",
       "    </tr>\n",
       "    <tr>\n",
       "      <th>mean</th>\n",
       "      <td>4.766729e+06</td>\n",
       "      <td>5150.541284</td>\n",
       "      <td>2.965138</td>\n",
       "      <td>1.286239</td>\n",
       "      <td>1.805505</td>\n",
       "      <td>0.693578</td>\n",
       "    </tr>\n",
       "    <tr>\n",
       "      <th>std</th>\n",
       "      <td>1.870440e+06</td>\n",
       "      <td>2170.141023</td>\n",
       "      <td>0.738064</td>\n",
       "      <td>0.502470</td>\n",
       "      <td>0.867492</td>\n",
       "      <td>0.861586</td>\n",
       "    </tr>\n",
       "    <tr>\n",
       "      <th>min</th>\n",
       "      <td>1.750000e+06</td>\n",
       "      <td>1650.000000</td>\n",
       "      <td>1.000000</td>\n",
       "      <td>1.000000</td>\n",
       "      <td>1.000000</td>\n",
       "      <td>0.000000</td>\n",
       "    </tr>\n",
       "    <tr>\n",
       "      <th>25%</th>\n",
       "      <td>3.430000e+06</td>\n",
       "      <td>3600.000000</td>\n",
       "      <td>2.000000</td>\n",
       "      <td>1.000000</td>\n",
       "      <td>1.000000</td>\n",
       "      <td>0.000000</td>\n",
       "    </tr>\n",
       "    <tr>\n",
       "      <th>50%</th>\n",
       "      <td>4.340000e+06</td>\n",
       "      <td>4600.000000</td>\n",
       "      <td>3.000000</td>\n",
       "      <td>1.000000</td>\n",
       "      <td>2.000000</td>\n",
       "      <td>0.000000</td>\n",
       "    </tr>\n",
       "    <tr>\n",
       "      <th>75%</th>\n",
       "      <td>5.740000e+06</td>\n",
       "      <td>6360.000000</td>\n",
       "      <td>3.000000</td>\n",
       "      <td>2.000000</td>\n",
       "      <td>2.000000</td>\n",
       "      <td>1.000000</td>\n",
       "    </tr>\n",
       "    <tr>\n",
       "      <th>max</th>\n",
       "      <td>1.330000e+07</td>\n",
       "      <td>16200.000000</td>\n",
       "      <td>6.000000</td>\n",
       "      <td>4.000000</td>\n",
       "      <td>4.000000</td>\n",
       "      <td>3.000000</td>\n",
       "    </tr>\n",
       "  </tbody>\n",
       "</table>\n",
       "</div>"
      ],
      "text/plain": [
       "              price          area    bedrooms   bathrooms     stories  \\\n",
       "count  5.450000e+02    545.000000  545.000000  545.000000  545.000000   \n",
       "mean   4.766729e+06   5150.541284    2.965138    1.286239    1.805505   \n",
       "std    1.870440e+06   2170.141023    0.738064    0.502470    0.867492   \n",
       "min    1.750000e+06   1650.000000    1.000000    1.000000    1.000000   \n",
       "25%    3.430000e+06   3600.000000    2.000000    1.000000    1.000000   \n",
       "50%    4.340000e+06   4600.000000    3.000000    1.000000    2.000000   \n",
       "75%    5.740000e+06   6360.000000    3.000000    2.000000    2.000000   \n",
       "max    1.330000e+07  16200.000000    6.000000    4.000000    4.000000   \n",
       "\n",
       "          parking  \n",
       "count  545.000000  \n",
       "mean     0.693578  \n",
       "std      0.861586  \n",
       "min      0.000000  \n",
       "25%      0.000000  \n",
       "50%      0.000000  \n",
       "75%      1.000000  \n",
       "max      3.000000  "
      ]
     },
     "execution_count": 176,
     "metadata": {},
     "output_type": "execute_result"
    }
   ],
   "source": [
    "hs.describe()"
   ]
  },
  {
   "cell_type": "code",
   "execution_count": 177,
   "metadata": {},
   "outputs": [
    {
     "name": "stdout",
     "output_type": "stream",
     "text": [
      "<class 'pandas.core.frame.DataFrame'>\n",
      "RangeIndex: 545 entries, 0 to 544\n",
      "Data columns (total 13 columns):\n",
      " #   Column            Non-Null Count  Dtype \n",
      "---  ------            --------------  ----- \n",
      " 0   price             545 non-null    int64 \n",
      " 1   area              545 non-null    int64 \n",
      " 2   bedrooms          545 non-null    int64 \n",
      " 3   bathrooms         545 non-null    int64 \n",
      " 4   stories           545 non-null    int64 \n",
      " 5   mainroad          545 non-null    object\n",
      " 6   guestroom         545 non-null    object\n",
      " 7   basement          545 non-null    object\n",
      " 8   hotwaterheating   545 non-null    object\n",
      " 9   airconditioning   545 non-null    object\n",
      " 10  parking           545 non-null    int64 \n",
      " 11  prefarea          545 non-null    object\n",
      " 12  furnishingstatus  545 non-null    object\n",
      "dtypes: int64(6), object(7)\n",
      "memory usage: 55.5+ KB\n"
     ]
    }
   ],
   "source": [
    "hs.info()"
   ]
  },
  {
   "cell_type": "code",
   "execution_count": 178,
   "metadata": {},
   "outputs": [
    {
     "data": {
      "text/html": [
       "<div>\n",
       "<style scoped>\n",
       "    .dataframe tbody tr th:only-of-type {\n",
       "        vertical-align: middle;\n",
       "    }\n",
       "\n",
       "    .dataframe tbody tr th {\n",
       "        vertical-align: top;\n",
       "    }\n",
       "\n",
       "    .dataframe thead th {\n",
       "        text-align: right;\n",
       "    }\n",
       "</style>\n",
       "<table border=\"1\" class=\"dataframe\">\n",
       "  <thead>\n",
       "    <tr style=\"text-align: right;\">\n",
       "      <th></th>\n",
       "      <th>price</th>\n",
       "      <th>area</th>\n",
       "      <th>bedrooms</th>\n",
       "      <th>bathrooms</th>\n",
       "      <th>stories</th>\n",
       "      <th>parking</th>\n",
       "    </tr>\n",
       "  </thead>\n",
       "  <tbody>\n",
       "    <tr>\n",
       "      <th>price</th>\n",
       "      <td>1.000000</td>\n",
       "      <td>0.535997</td>\n",
       "      <td>0.366494</td>\n",
       "      <td>0.517545</td>\n",
       "      <td>0.420712</td>\n",
       "      <td>0.384394</td>\n",
       "    </tr>\n",
       "    <tr>\n",
       "      <th>area</th>\n",
       "      <td>0.535997</td>\n",
       "      <td>1.000000</td>\n",
       "      <td>0.151858</td>\n",
       "      <td>0.193820</td>\n",
       "      <td>0.083996</td>\n",
       "      <td>0.352980</td>\n",
       "    </tr>\n",
       "    <tr>\n",
       "      <th>bedrooms</th>\n",
       "      <td>0.366494</td>\n",
       "      <td>0.151858</td>\n",
       "      <td>1.000000</td>\n",
       "      <td>0.373930</td>\n",
       "      <td>0.408564</td>\n",
       "      <td>0.139270</td>\n",
       "    </tr>\n",
       "    <tr>\n",
       "      <th>bathrooms</th>\n",
       "      <td>0.517545</td>\n",
       "      <td>0.193820</td>\n",
       "      <td>0.373930</td>\n",
       "      <td>1.000000</td>\n",
       "      <td>0.326165</td>\n",
       "      <td>0.177496</td>\n",
       "    </tr>\n",
       "    <tr>\n",
       "      <th>stories</th>\n",
       "      <td>0.420712</td>\n",
       "      <td>0.083996</td>\n",
       "      <td>0.408564</td>\n",
       "      <td>0.326165</td>\n",
       "      <td>1.000000</td>\n",
       "      <td>0.045547</td>\n",
       "    </tr>\n",
       "    <tr>\n",
       "      <th>parking</th>\n",
       "      <td>0.384394</td>\n",
       "      <td>0.352980</td>\n",
       "      <td>0.139270</td>\n",
       "      <td>0.177496</td>\n",
       "      <td>0.045547</td>\n",
       "      <td>1.000000</td>\n",
       "    </tr>\n",
       "  </tbody>\n",
       "</table>\n",
       "</div>"
      ],
      "text/plain": [
       "              price      area  bedrooms  bathrooms   stories   parking\n",
       "price      1.000000  0.535997  0.366494   0.517545  0.420712  0.384394\n",
       "area       0.535997  1.000000  0.151858   0.193820  0.083996  0.352980\n",
       "bedrooms   0.366494  0.151858  1.000000   0.373930  0.408564  0.139270\n",
       "bathrooms  0.517545  0.193820  0.373930   1.000000  0.326165  0.177496\n",
       "stories    0.420712  0.083996  0.408564   0.326165  1.000000  0.045547\n",
       "parking    0.384394  0.352980  0.139270   0.177496  0.045547  1.000000"
      ]
     },
     "execution_count": 178,
     "metadata": {},
     "output_type": "execute_result"
    }
   ],
   "source": [
    "hs.corr()"
   ]
  },
  {
   "cell_type": "code",
   "execution_count": 179,
   "metadata": {},
   "outputs": [
    {
     "data": {
      "image/png": "[encoded data removed]",
      "text/plain": [
       "<Figure size 432x288 with 6 Axes>"
      ]
     },
     "metadata": {
      "needs_background": "light"
     },
     "output_type": "display_data"
    }
   ],
   "source": [
    "hs.plot(kind=\"box\", subplots=True);"
   ]
  },
  {
   "cell_type": "code",
   "execution_count": 180,
   "metadata": {},
   "outputs": [],
   "source": [
    "Q1,Q3=hs[\"price\"].quantile([0.25,0.75])\n",
    "IQR=Q3-Q1\n",
    "UL=Q3+1.5*IQR\n",
    "LL=Q1-1.5*IQR\n",
    "\n",
    "hs[\"price\"]=np.where(hs[\"price\"]>UL, UL, hs[\"price\"])"
   ]
  },
  {
   "cell_type": "code",
   "execution_count": 181,
   "metadata": {},
   "outputs": [],
   "source": [
    "Q1,Q3=hs[\"area\"].quantile([0.25,0.75])\n",
    "IQR=Q3-Q1\n",
    "UL=Q3+1.5*IQR\n",
    "LL=Q1-1.5*IQR\n",
    "\n",
    "hs[\"area\"]=np.where(hs[\"area\"]>UL, UL, hs[\"area\"])"
   ]
  },
  {
   "cell_type": "code",
   "execution_count": 182,
   "metadata": {},
   "outputs": [],
   "source": [
    "Q1,Q3=hs[\"bedrooms\"].quantile([0.25,0.75])\n",
    "IQR=Q3-Q1\n",
    "UL=Q3+1.5*IQR\n",
    "LL=Q1-1.5*IQR\n",
    "\n",
    "hs[\"bedrooms\"]=np.where(hs[\"bedrooms\"]>UL, UL, hs[\"bedrooms\"])"
   ]
  },
  {
   "cell_type": "code",
   "execution_count": 183,
   "metadata": {},
   "outputs": [],
   "source": [
    "Q1,Q3=hs[\"bathrooms\"].quantile([0.25,0.75])\n",
    "IQR=Q3-Q1\n",
    "UL=Q3+1.5*IQR\n",
    "LL=Q1-1.5*IQR\n",
    "\n",
    "hs[\"bathrooms\"]=np.where(hs[\"bathrooms\"]>UL, UL, hs[\"bathrooms\"])"
   ]
  },
  {
   "cell_type": "code",
   "execution_count": 184,
   "metadata": {},
   "outputs": [],
   "source": [
    "Q1,Q3=hs[\"stories\"].quantile([0.25,0.75])\n",
    "IQR=Q3-Q1\n",
    "UL=Q3+1.5*IQR\n",
    "LL=Q1-1.5*IQR\n",
    "\n",
    "hs[\"stories\"]=np.where(hs[\"stories\"]>UL, UL, hs[\"stories\"])"
   ]
  },
  {
   "cell_type": "code",
   "execution_count": 185,
   "metadata": {},
   "outputs": [],
   "source": [
    "Q1,Q3=hs[\"parking\"].quantile([0.25,0.75])\n",
    "IQR=Q3-Q1\n",
    "UL=Q3+1.5*IQR\n",
    "LL=Q1-1.5*IQR\n",
    "\n",
    "hs[\"parking\"]=np.where(hs[\"parking\"]>UL, UL, hs[\"parking\"])"
   ]
  },
  {
   "cell_type": "code",
   "execution_count": 186,
   "metadata": {},
   "outputs": [
    {
     "data": {
      "image/png": "[encoded data removed]",
      "text/plain": [
       "<Figure size 432x288 with 6 Axes>"
      ]
     },
     "metadata": {
      "needs_background": "light"
     },
     "output_type": "display_data"
    }
   ],
   "source": [
    "hs.plot(kind=\"box\", subplots=True);"
   ]
  },
  {
   "cell_type": "code",
   "execution_count": 187,
   "metadata": {},
   "outputs": [
    {
     "data": {
      "text/plain": [
       "yes    468\n",
       "no      77\n",
       "Name: mainroad, dtype: int64"
      ]
     },
     "execution_count": 187,
     "metadata": {},
     "output_type": "execute_result"
    }
   ],
   "source": [
    "hs.mainroad.value_counts()"
   ]
  },
  {
   "cell_type": "code",
   "execution_count": 188,
   "metadata": {},
   "outputs": [
    {
     "data": {
      "text/plain": [
       "no     448\n",
       "yes     97\n",
       "Name: guestroom, dtype: int64"
      ]
     },
     "execution_count": 188,
     "metadata": {},
     "output_type": "execute_result"
    }
   ],
   "source": [
    "hs.guestroom.value_counts()"
   ]
  },
  {
   "cell_type": "code",
   "execution_count": 189,
   "metadata": {},
   "outputs": [
    {
     "data": {
      "text/plain": [
       "no     354\n",
       "yes    191\n",
       "Name: basement, dtype: int64"
      ]
     },
     "execution_count": 189,
     "metadata": {},
     "output_type": "execute_result"
    }
   ],
   "source": [
    "hs.basement.value_counts()"
   ]
  },
  {
   "cell_type": "code",
   "execution_count": 190,
   "metadata": {},
   "outputs": [
    {
     "data": {
      "text/plain": [
       "no     520\n",
       "yes     25\n",
       "Name: hotwaterheating, dtype: int64"
      ]
     },
     "execution_count": 190,
     "metadata": {},
     "output_type": "execute_result"
    }
   ],
   "source": [
    "hs.hotwaterheating.value_counts()"
   ]
  },
  {
   "cell_type": "code",
   "execution_count": 191,
   "metadata": {},
   "outputs": [
    {
     "data": {
      "text/plain": [
       "no     373\n",
       "yes    172\n",
       "Name: airconditioning, dtype: int64"
      ]
     },
     "execution_count": 191,
     "metadata": {},
     "output_type": "execute_result"
    }
   ],
   "source": [
    "hs.airconditioning.value_counts()"
   ]
  },
  {
   "cell_type": "code",
   "execution_count": 192,
   "metadata": {},
   "outputs": [
    {
     "data": {
      "text/plain": [
       "no     417\n",
       "yes    128\n",
       "Name: prefarea, dtype: int64"
      ]
     },
     "execution_count": 192,
     "metadata": {},
     "output_type": "execute_result"
    }
   ],
   "source": [
    "hs.prefarea.value_counts()"
   ]
  },
  {
   "cell_type": "code",
   "execution_count": 193,
   "metadata": {},
   "outputs": [
    {
     "data": {
      "text/plain": [
       "semi-furnished    227\n",
       "unfurnished       178\n",
       "furnished         140\n",
       "Name: furnishingstatus, dtype: int64"
      ]
     },
     "execution_count": 193,
     "metadata": {},
     "output_type": "execute_result"
    }
   ],
   "source": [
    "hs.furnishingstatus.value_counts()"
   ]
  },
  {
   "cell_type": "code",
   "execution_count": 194,
   "metadata": {},
   "outputs": [],
   "source": [
    "#new_hs = pd.get_dummies(hs, drop_first=True)"
   ]
  },
  {
   "cell_type": "code",
   "execution_count": 195,
   "metadata": {},
   "outputs": [
    {
     "name": "stdout",
     "output_type": "stream",
     "text": [
      "<class 'pandas.core.frame.DataFrame'>\n",
      "RangeIndex: 545 entries, 0 to 544\n",
      "Data columns (total 13 columns):\n",
      " #   Column            Non-Null Count  Dtype  \n",
      "---  ------            --------------  -----  \n",
      " 0   price             545 non-null    float64\n",
      " 1   area              545 non-null    float64\n",
      " 2   bedrooms          545 non-null    float64\n",
      " 3   bathrooms         545 non-null    float64\n",
      " 4   stories           545 non-null    float64\n",
      " 5   mainroad          545 non-null    object \n",
      " 6   guestroom         545 non-null    object \n",
      " 7   basement          545 non-null    object \n",
      " 8   hotwaterheating   545 non-null    object \n",
      " 9   airconditioning   545 non-null    object \n",
      " 10  parking           545 non-null    float64\n",
      " 11  prefarea          545 non-null    object \n",
      " 12  furnishingstatus  545 non-null    object \n",
      "dtypes: float64(6), object(7)\n",
      "memory usage: 55.5+ KB\n"
     ]
    }
   ],
   "source": [
    "hs.info()"
   ]
  },
  {
   "cell_type": "code",
   "execution_count": 198,
   "metadata": {},
   "outputs": [
    {
     "data": {
      "text/html": [
       "<div>\n",
       "<style scoped>\n",
       "    .dataframe tbody tr th:only-of-type {\n",
       "        vertical-align: middle;\n",
       "    }\n",
       "\n",
       "    .dataframe tbody tr th {\n",
       "        vertical-align: top;\n",
       "    }\n",
       "\n",
       "    .dataframe thead th {\n",
       "        text-align: right;\n",
       "    }\n",
       "</style>\n",
       "<table border=\"1\" class=\"dataframe\">\n",
       "  <thead>\n",
       "    <tr style=\"text-align: right;\">\n",
       "      <th></th>\n",
       "      <th>price</th>\n",
       "      <th>area</th>\n",
       "      <th>bedrooms</th>\n",
       "      <th>bathrooms</th>\n",
       "      <th>stories</th>\n",
       "      <th>mainroad</th>\n",
       "      <th>guestroom</th>\n",
       "      <th>basement</th>\n",
       "      <th>hotwaterheating</th>\n",
       "      <th>airconditioning</th>\n",
       "      <th>parking</th>\n",
       "      <th>prefarea</th>\n",
       "      <th>furnishingstatus</th>\n",
       "    </tr>\n",
       "  </thead>\n",
       "  <tbody>\n",
       "    <tr>\n",
       "      <th>0</th>\n",
       "      <td>9205000.0</td>\n",
       "      <td>7420.0</td>\n",
       "      <td>4.0</td>\n",
       "      <td>2.0</td>\n",
       "      <td>3.0</td>\n",
       "      <td>1</td>\n",
       "      <td>0</td>\n",
       "      <td>0</td>\n",
       "      <td>0</td>\n",
       "      <td>1</td>\n",
       "      <td>2.0</td>\n",
       "      <td>1</td>\n",
       "      <td>0</td>\n",
       "    </tr>\n",
       "    <tr>\n",
       "      <th>1</th>\n",
       "      <td>9205000.0</td>\n",
       "      <td>8960.0</td>\n",
       "      <td>4.0</td>\n",
       "      <td>3.5</td>\n",
       "      <td>3.5</td>\n",
       "      <td>1</td>\n",
       "      <td>0</td>\n",
       "      <td>0</td>\n",
       "      <td>0</td>\n",
       "      <td>1</td>\n",
       "      <td>2.5</td>\n",
       "      <td>0</td>\n",
       "      <td>0</td>\n",
       "    </tr>\n",
       "    <tr>\n",
       "      <th>2</th>\n",
       "      <td>9205000.0</td>\n",
       "      <td>9960.0</td>\n",
       "      <td>3.0</td>\n",
       "      <td>2.0</td>\n",
       "      <td>2.0</td>\n",
       "      <td>1</td>\n",
       "      <td>0</td>\n",
       "      <td>1</td>\n",
       "      <td>0</td>\n",
       "      <td>0</td>\n",
       "      <td>2.0</td>\n",
       "      <td>1</td>\n",
       "      <td>1</td>\n",
       "    </tr>\n",
       "    <tr>\n",
       "      <th>3</th>\n",
       "      <td>9205000.0</td>\n",
       "      <td>7500.0</td>\n",
       "      <td>4.0</td>\n",
       "      <td>2.0</td>\n",
       "      <td>2.0</td>\n",
       "      <td>1</td>\n",
       "      <td>0</td>\n",
       "      <td>1</td>\n",
       "      <td>0</td>\n",
       "      <td>1</td>\n",
       "      <td>2.5</td>\n",
       "      <td>1</td>\n",
       "      <td>0</td>\n",
       "    </tr>\n",
       "    <tr>\n",
       "      <th>4</th>\n",
       "      <td>9205000.0</td>\n",
       "      <td>7420.0</td>\n",
       "      <td>4.0</td>\n",
       "      <td>1.0</td>\n",
       "      <td>2.0</td>\n",
       "      <td>1</td>\n",
       "      <td>1</td>\n",
       "      <td>1</td>\n",
       "      <td>0</td>\n",
       "      <td>1</td>\n",
       "      <td>2.0</td>\n",
       "      <td>0</td>\n",
       "      <td>0</td>\n",
       "    </tr>\n",
       "  </tbody>\n",
       "</table>\n",
       "</div>"
      ],
      "text/plain": [
       "       price    area  bedrooms  bathrooms  stories  mainroad  guestroom  \\\n",
       "0  9205000.0  7420.0       4.0        2.0      3.0         1          0   \n",
       "1  9205000.0  8960.0       4.0        3.5      3.5         1          0   \n",
       "2  9205000.0  9960.0       3.0        2.0      2.0         1          0   \n",
       "3  9205000.0  7500.0       4.0        2.0      2.0         1          0   \n",
       "4  9205000.0  7420.0       4.0        1.0      2.0         1          1   \n",
       "\n",
       "   basement  hotwaterheating  airconditioning  parking  prefarea  \\\n",
       "0         0                0                1      2.0         1   \n",
       "1         0                0                1      2.5         0   \n",
       "2         1                0                0      2.0         1   \n",
       "3         1                0                1      2.5         1   \n",
       "4         1                0                1      2.0         0   \n",
       "\n",
       "   furnishingstatus  \n",
       "0                 0  \n",
       "1                 0  \n",
       "2                 1  \n",
       "3                 0  \n",
       "4                 0  "
      ]
     },
     "execution_count": 198,
     "metadata": {},
     "output_type": "execute_result"
    }
   ],
   "source": [
    "# Import label encoder \n",
    "from sklearn import preprocessing\n",
    "# label_encoder object knows how to understand word labels. \n",
    "label_encoder = preprocessing.LabelEncoder()\n",
    "# Encode labels in column 'Country'. \n",
    "hs['mainroad']= label_encoder.fit_transform(hs['mainroad']) \n",
    "hs['guestroom']= label_encoder.fit_transform(hs['guestroom']) \n",
    "hs['basement']= label_encoder.fit_transform(hs['basement']) \n",
    "hs['hotwaterheating']= label_encoder.fit_transform(hs['hotwaterheating']) \n",
    "hs['airconditioning']= label_encoder.fit_transform(hs['airconditioning']) \n",
    "hs['furnishingstatus']= label_encoder.fit_transform(hs['furnishingstatus']) \n",
    "hs['prefarea']= label_encoder.fit_transform(hs['prefarea']) \n",
    "hs.head()"
   ]
  },
  {
   "cell_type": "code",
   "execution_count": 199,
   "metadata": {},
   "outputs": [],
   "source": [
    "X = hs.iloc[:,1:]\n",
    "y = hs.iloc[:,0]"
   ]
  },
  {
   "cell_type": "code",
   "execution_count": 200,
   "metadata": {},
   "outputs": [
    {
     "data": {
      "text/plain": [
       "((545, 12), (545,))"
      ]
     },
     "execution_count": 200,
     "metadata": {},
     "output_type": "execute_result"
    }
   ],
   "source": [
    "X.shape, y.shape"
   ]
  },
  {
   "cell_type": "code",
   "execution_count": 201,
   "metadata": {},
   "outputs": [],
   "source": [
    "from sklearn.model_selection import train_test_split\n",
    "# Create training and test sets\n",
    "X_train, X_test, y_train, y_test = train_test_split(X, y,test_size = 0.3, random_state=2020)"
   ]
  },
  {
   "cell_type": "code",
   "execution_count": 202,
   "metadata": {},
   "outputs": [
    {
     "data": {
      "text/plain": [
       "((381, 12), (164, 12))"
      ]
     },
     "execution_count": 202,
     "metadata": {},
     "output_type": "execute_result"
    }
   ],
   "source": [
    "X_train.shape, X_test.shape"
   ]
  },
  {
   "cell_type": "code",
   "execution_count": 203,
   "metadata": {},
   "outputs": [
    {
     "data": {
      "text/plain": [
       "array([ 2.77300000e+02,  9.49282060e+04,  8.84377138e+05,  5.66113536e+05,\n",
       "        4.37166894e+05,  2.28693197e+05,  4.02442133e+05,  8.02348745e+05,\n",
       "        6.60637213e+05,  2.67772901e+05,  4.78548108e+05, -9.26537130e+04])"
      ]
     },
     "execution_count": 203,
     "metadata": {},
     "output_type": "execute_result"
    }
   ],
   "source": [
    "from sklearn.linear_model import LinearRegression\n",
    "lr=LinearRegression()\n",
    "lr.fit(X_train,y_train)\n",
    "lr.coef_.round(3)"
   ]
  },
  {
   "cell_type": "code",
   "execution_count": 204,
   "metadata": {},
   "outputs": [
    {
     "data": {
      "text/plain": [
       "-116002.22353748139"
      ]
     },
     "execution_count": 204,
     "metadata": {},
     "output_type": "execute_result"
    }
   ],
   "source": [
    "lr.intercept_"
   ]
  },
  {
   "cell_type": "code",
   "execution_count": 205,
   "metadata": {},
   "outputs": [],
   "source": [
    "p_train=lr.predict(X_train)\n",
    "p_test=lr.predict(X_test)"
   ]
  },
  {
   "cell_type": "code",
   "execution_count": 206,
   "metadata": {},
   "outputs": [],
   "source": [
    "from sklearn.metrics import mean_squared_error, r2_score"
   ]
  },
  {
   "cell_type": "code",
   "execution_count": 207,
   "metadata": {},
   "outputs": [],
   "source": [
    "RMSE_Train=mean_squared_error(y_train, p_train, squared=False)\n",
    "RMSE_Test=mean_squared_error(y_test, p_test, squared=False)"
   ]
  },
  {
   "cell_type": "code",
   "execution_count": 208,
   "metadata": {},
   "outputs": [
    {
     "data": {
      "text/plain": [
       "0.20235968995920858"
      ]
     },
     "execution_count": 208,
     "metadata": {},
     "output_type": "execute_result"
    }
   ],
   "source": [
    "RMSE_Train/y_train.mean()"
   ]
  },
  {
   "cell_type": "code",
   "execution_count": 209,
   "metadata": {},
   "outputs": [
    {
     "data": {
      "text/plain": [
       "0.2184641346140464"
      ]
     },
     "execution_count": 209,
     "metadata": {},
     "output_type": "execute_result"
    }
   ],
   "source": [
    "RMSE_Test/y_test.mean()"
   ]
  },
  {
   "cell_type": "code",
   "execution_count": 210,
   "metadata": {},
   "outputs": [],
   "source": [
    "r2_train=r2_score(y_train, p_train)\n",
    "r2_test=r2_score(y_test, p_test)"
   ]
  },
  {
   "cell_type": "code",
   "execution_count": 211,
   "metadata": {},
   "outputs": [
    {
     "data": {
      "text/plain": [
       "(0.6919701794903395, 0.6662280800528744)"
      ]
     },
     "execution_count": 211,
     "metadata": {},
     "output_type": "execute_result"
    }
   ],
   "source": [
    "r2_train, r2_test"
   ]
  },
  {
   "cell_type": "code",
   "execution_count": 212,
   "metadata": {},
   "outputs": [],
   "source": [
    "# Pickling of model\n",
    "import pickle\n",
    "pickle.dump(lr, open(\"Housing_reg_model.pkl\", 'wb'))"
   ]
  },
  {
   "cell_type": "code",
   "execution_count": 214,
   "metadata": {},
   "outputs": [
    {
     "data": {
      "text/plain": [
       "array([7900272.68146887, 9592276.15972812, 7592725.23621177,\n",
       "       7892671.7637831 , 6602369.23076991, 7889466.99621601,\n",
       "       9296721.37138502, 7260047.15714589, 7269481.63003472,\n",
       "       7400922.39710294, 7611381.25628437, 8026414.71656541,\n",
       "       6732481.157774  , 5910304.88914165, 6055768.37413734,\n",
       "       5226618.49789211, 7284827.79657605, 7909337.59943448,\n",
       "       6207388.82049801, 6601503.89650929, 5468174.31723022,\n",
       "       6566912.58671156, 5848253.85829053, 6330966.03546179,\n",
       "       7143357.42419507, 7721270.0989602 , 7697570.44988535,\n",
       "       4692600.45485531, 7408890.60671657, 6843757.84080948,\n",
       "       7439797.23295813, 6516356.10477054, 6362043.15504285,\n",
       "       6757619.13391037, 6221226.18358063, 7493386.95615659,\n",
       "       7696475.73367942, 8142916.0193744 , 6375095.15994807,\n",
       "       6950588.11815492, 5980498.75989498, 7258916.98691259,\n",
       "       7163883.30625046, 6557723.80639158, 7043241.83160649,\n",
       "       6304830.24346383, 6948313.62609253, 7110524.20493291,\n",
       "       5184230.08660067, 6681599.22760715, 6980229.7114062 ,\n",
       "       5968751.70063179, 7271935.02908751, 6887727.44932897,\n",
       "       6235182.806227  , 5029458.75735993, 6685245.63415914,\n",
       "       8582384.42328879, 7645146.03610718, 7177006.82357355,\n",
       "       5574545.59325152, 5259695.96446109, 6260623.63063596,\n",
       "       7606334.22688583, 6777494.81914224, 7300210.69062109,\n",
       "       6345730.0383306 , 5426268.77664936, 4648652.64833307,\n",
       "       7527607.25342733, 6065106.0908055 , 6590161.50349122,\n",
       "       5817649.84741339, 6972345.80467762, 5215411.00939111,\n",
       "       5492853.69919327, 6992498.24467871, 7014682.27898687,\n",
       "       5942918.85934615, 6626177.15439642, 5742372.11080482,\n",
       "       5854330.88437213, 7661871.95707672, 6587887.01142883,\n",
       "       4910443.94374314, 7021409.92183223, 5733943.7074086 ,\n",
       "       3999883.88159024, 6231795.16577982, 7448483.5630776 ,\n",
       "       4577039.14074743, 5478518.89115124, 6576473.4077391 ,\n",
       "       6577238.07258651, 6289950.90517945, 6313505.23106945,\n",
       "       5700906.96288887, 5776602.5448788 , 6857104.89496893,\n",
       "       5871773.82307279, 6127319.95643895, 5274832.97353398,\n",
       "       6945702.89569602, 6723232.30449459, 6111198.69853478,\n",
       "       5194905.51676489, 5996006.38222475, 5664618.60019562,\n",
       "       4357167.81564865, 6642362.30783272, 5439198.31888584,\n",
       "       6521101.81173882, 4841714.78723259, 6140606.1299892 ,\n",
       "       5013835.80494833, 6488056.13225402, 5778566.06960007,\n",
       "       4632823.69968646, 5378336.16821424, 5987608.51449811,\n",
       "       5515214.00660629, 6305379.8359726 , 5826091.61525836,\n",
       "       5631697.97960843, 6433259.13826432, 6071623.7659273 ,\n",
       "       5273139.64811034, 6350826.74443823, 5870922.7032481 ,\n",
       "       7021761.73245731, 3833309.92343103, 5318798.38975131,\n",
       "       5198612.7624478 , 4995038.87745547, 5321425.29294559,\n",
       "       6495233.29797726, 6110156.74470935, 4179274.88011135,\n",
       "       5143152.67667742, 6125937.14238842, 6439773.21220688,\n",
       "       6733482.32278326, 6688632.53111812, 6128795.09517368,\n",
       "       5580339.16308053, 4858225.9451185 , 5048285.44622573,\n",
       "       5207202.18134454, 5338192.15458607, 5654264.66242899,\n",
       "       5631781.72407625, 5519680.99902001, 6032688.77246722,\n",
       "       5616187.60792266, 4961969.28918062, 6048885.75836492,\n",
       "       4986842.64511715, 4844755.48634633, 4712189.47224497,\n",
       "       5106085.99363845, 6178018.07999978, 6155424.45354106,\n",
       "       6449071.39584   , 5626682.32592873, 6745072.85216346,\n",
       "       5977581.5142945 , 6111249.13555105, 5225000.16812147,\n",
       "       4961860.87569252, 5546220.2504628 , 4775757.87753241,\n",
       "       5557705.3603204 , 7072436.12627321, 5459315.4711154 ,\n",
       "       4868444.03936674, 6990988.32961493, 5615222.63025205,\n",
       "       4522444.08311199, 5573689.02687903, 4831638.08762021,\n",
       "       5352401.77542916, 5996572.92436642, 3698964.56470783,\n",
       "       4922964.67867834, 4969967.25226517, 3671589.48994654,\n",
       "       5917827.90204066, 5196946.31753006, 5067661.6382008 ,\n",
       "       3044469.99685018, 6021147.97715223, 6072689.61726856,\n",
       "       4996306.22991313, 3831035.43136864, 5739297.21147103,\n",
       "       6554465.09188653, 5528601.41987255, 5084403.47558478,\n",
       "       4839919.94729905, 4054988.19935411, 4846377.0682285 ,\n",
       "       4520050.68928242, 3681550.84348045, 4122250.30482668,\n",
       "       3917644.62401704, 4906961.96474922, 4768973.07319604,\n",
       "       4424880.41637358, 3919595.59313253, 3734591.41601571,\n",
       "       4984918.70919367, 5503640.26640339, 6056197.74236411,\n",
       "       4730649.36647615, 3384903.32745269, 4156929.39001476,\n",
       "       4652774.74791775, 6200120.16279106, 4343244.92761138,\n",
       "       4780791.20535424, 7318756.91535162, 4457572.59363435,\n",
       "       6009218.92165488, 5706221.75525453, 6290491.84310579,\n",
       "       4984742.2698806 , 5473350.51754724, 4956166.57614911,\n",
       "       4072046.14266909, 7088776.60469549, 4410942.00144427,\n",
       "       3640272.20786816, 4063485.73634435, 4316474.86194127,\n",
       "       5428190.52114656, 5262069.53105989, 4340507.24725992,\n",
       "       4321617.06539047, 5162272.19441295, 3999528.11358373,\n",
       "       4341054.43916136, 3541981.66248985, 4292564.27096037,\n",
       "       3732111.7238663 , 5114821.50346109, 4937670.27877686,\n",
       "       3418431.86478662, 6380100.43485622, 4521302.26910678,\n",
       "       6095271.41883997, 4069337.82471257, 4156801.29759361,\n",
       "       4697968.47606232, 3982270.90865422, 5071635.93854822,\n",
       "       4336527.46659801, 4267301.01479587, 4344168.49906228,\n",
       "       3917966.41728624, 5055994.7305358 , 4427787.56718129,\n",
       "       3503224.28878258, 3539869.98107412, 3193060.99103173,\n",
       "       4196185.8127028 , 3807073.12625138, 4238452.53699795,\n",
       "       4161990.79467594, 4658102.32481879, 3518717.74258327,\n",
       "       6391017.74719747, 3165824.64791114, 4260466.62838923,\n",
       "       4223579.00588386, 4413415.7551212 , 3482029.21798091,\n",
       "       3356752.83022899, 5488011.49383197, 4889257.28500865,\n",
       "       3725142.48301819, 4105948.59204505, 4405546.70075336,\n",
       "       3894980.15243516, 3926511.57227224, 4383908.98891154,\n",
       "       4602640.83285865, 3710266.49721972, 4623035.64172183,\n",
       "       4897919.57777994, 4657746.68408744, 4680169.49003375,\n",
       "       4319193.58276597, 3833782.51085197, 2829705.22690091,\n",
       "       4181239.94820344, 2737456.38642802, 5618269.00835328,\n",
       "       4733438.90234626, 4910023.28267108, 4666975.21602772,\n",
       "       4227121.76872932, 3984545.40071661, 4344490.03473577,\n",
       "       3706734.02419756, 5323389.17197106, 3754359.1642636 ,\n",
       "       4139806.76036778, 4196831.33565246, 4322072.35318935,\n",
       "       4569920.78844387, 4025871.44759111, 4219513.67545319,\n",
       "       4596348.95885181, 4434742.4996219 , 3823038.21177228,\n",
       "       4082377.65661464, 5285672.08411267, 5241452.75124834,\n",
       "       3167270.10879969, 5621467.9602418 , 4834585.25967399,\n",
       "       5758772.02592688, 5231128.83031366, 4130640.81641308,\n",
       "       4403664.16548643, 4244924.68582942, 3068267.73710259,\n",
       "       4818049.78249538, 5288041.30342092, 3720663.19521751,\n",
       "       4575068.03985363, 6254585.79627473, 4781115.67852289,\n",
       "       3361801.0700681 , 3943951.81297822, 4618315.34074864,\n",
       "       5400556.72810564, 4326237.5384421 , 4114302.52986967,\n",
       "       4483674.20416146, 5026361.50263295, 4573038.47950627,\n",
       "       5266443.37708834, 3000243.79178423, 2936464.69314829,\n",
       "       3969650.38862446, 3745618.61630668, 3366202.50671471,\n",
       "       3592006.7700514 , 3866487.8505786 , 4453460.69120739,\n",
       "       2867139.58593531, 3928411.63124781, 4459185.16534049,\n",
       "       4558608.25908825, 4879714.30148656, 4675691.84129875,\n",
       "       4469779.68146879, 3312411.64211858, 3137186.97920984,\n",
       "       2989151.77463016, 3633134.82927092, 3084578.49237024,\n",
       "       3665051.52439698, 4162701.1060186 , 3472799.09276294,\n",
       "       3370554.44558243, 3443442.09832478, 2995665.5666282 ,\n",
       "       2959793.29938687, 4251886.89295437, 3922304.4478437 ,\n",
       "       3376990.38642641, 4020163.79098119, 4131774.82289164,\n",
       "       4721091.95682926, 5095073.49502954, 4555752.77703371,\n",
       "       5668405.86102473, 3861323.95375933, 3116709.97190204,\n",
       "       3456607.86512159, 3898491.98117746, 5787698.70600028,\n",
       "       2772196.79118857, 2785577.88963782, 3474284.98763496,\n",
       "       4366290.81481996, 3449392.63537029, 3900409.96174514,\n",
       "       3476492.72942907, 3774226.01883677, 3636328.49463151,\n",
       "       3492644.02376243, 3059608.34534591, 3845692.82341076,\n",
       "       3146004.50430152, 3865357.18695844, 3570196.3092909 ,\n",
       "       4174789.09534217, 3496404.44360242, 6219580.5048299 ,\n",
       "       3406730.85026613, 4782787.03707598, 3358851.27727016,\n",
       "       2719671.84641766, 3997763.6189667 , 4262024.56042677,\n",
       "       2885406.04402451, 3194951.99693447, 2938739.18521068,\n",
       "       4262024.56042677, 4041990.43033979, 4743349.28523201,\n",
       "       2896498.06117859, 5508981.49401899, 3765806.94942419,\n",
       "       2970885.31654095, 4698908.79195621, 4129184.75789679,\n",
       "       3484795.63141674, 3093381.36566346, 3031232.24275642,\n",
       "       2911009.14232549, 3354806.35211826, 3782701.5571676 ,\n",
       "       2367984.22476906, 4098353.15782678, 3164270.96239073,\n",
       "       3856283.82334266, 2692925.71955707, 4477068.98562932,\n",
       "       4368015.89068759, 3420439.48847809, 3676351.21523278,\n",
       "       2896498.06117859, 4098353.15782678, 3769431.95699223,\n",
       "       2679543.07773701, 2428828.11983985, 3943989.96992572,\n",
       "       3649048.94414367, 3448888.79384299, 2899676.39381819,\n",
       "       3050563.94081686, 2823270.02954513, 4227642.3138132 ,\n",
       "       2804684.78221508, 3539949.10064129, 2860067.0168314 ,\n",
       "       3889028.39638147, 3740635.93681887, 5561149.44560393,\n",
       "       2895012.24597551, 4345735.2128699 , 3797340.5240021 ,\n",
       "       3107300.78361476, 2926504.13949699, 3504852.72114067,\n",
       "       2746755.82959855, 4290110.70352955, 4214693.80202784,\n",
       "       3094143.94899745, 3264197.98458028, 4752945.15436747,\n",
       "       2829945.95825413, 2949591.21449974, 3963898.97541684,\n",
       "       2655004.75786359, 3237093.7282388 , 2841542.61681811,\n",
       "       3477122.67825548, 4300860.79878911, 4008472.78087481,\n",
       "       3569591.7489854 , 3266872.86455414, 4729668.61338666,\n",
       "       3151614.45572236, 3266133.62097479, 3109926.95100773,\n",
       "       3325511.28296413, 2273056.01925511, 2873575.52677929,\n",
       "       4364242.12036781, 2182030.73816163, 2782804.8853493 ,\n",
       "       3532660.61517993, 4029596.59137511, 4540250.04153472,\n",
       "       3275597.20577078, 4276457.68793704, 2524190.89473613,\n",
       "       3842307.2410605 , 3154549.65928752, 3661847.2448099 ,\n",
       "       3814220.6866806 , 2885406.04402451, 2867104.21572029,\n",
       "       2989572.43570222, 5004127.20597821, 2647573.73491616,\n",
       "       2107805.68207591, 3101636.43568522, 3072987.96299004,\n",
       "       3320043.40748567, 4207084.99844394, 2145981.68241088,\n",
       "       2774485.87248374, 2996326.21556528, 5080499.00779349,\n",
       "       2232590.87505928, 2315781.00371486, 3359526.57800571,\n",
       "       3657367.95700923, 2924634.17590307, 3729822.58000544,\n",
       "       2733956.92262517, 2875878.51638473, 2975449.02707957,\n",
       "       3684451.94019012, 3911417.63077664, 2347024.49332853,\n",
       "       3308872.0583724 , 4374695.13562265, 2681312.9283895 ,\n",
       "       2785577.88963782, 2658019.69236594, 2343256.86860548,\n",
       "       2344991.93147997, 3940570.9059329 , 2777050.22155029,\n",
       "       4042843.23350192, 2170938.72100755, 3102767.09930538,\n",
       "       3364075.56213049, 2975706.67077142, 3090838.95084024,\n",
       "       2908656.79910903, 2788073.59349749, 2435938.61793117,\n",
       "       3546093.55092687, 2192140.38266192, 2780031.88106078,\n",
       "       2426217.31482797, 3504852.72114067])"
      ]
     },
     "execution_count": 214,
     "metadata": {},
     "output_type": "execute_result"
    }
   ],
   "source": [
    "pickled_model=pickle.load(open(\"Housing_reg_model.pkl\", 'rb'))\n",
    "pickled_model.predict(hs.drop('price',axis=1))"
   ]
  },
  {
   "cell_type": "code",
   "execution_count": 215,
   "metadata": {},
   "outputs": [
    {
     "data": {
      "text/plain": [
       "Index(['price', 'area', 'bedrooms', 'bathrooms', 'stories', 'mainroad',\n",
       "       'guestroom', 'basement', 'hotwaterheating', 'airconditioning',\n",
       "       'parking', 'prefarea', 'furnishingstatus'],\n",
       "      dtype='object')"
      ]
     },
     "execution_count": 215,
     "metadata": {},
     "output_type": "execute_result"
    }
   ],
   "source": [
    "hs.columns"
   ]
  },
  {
   "cell_type": "code",
   "execution_count": null,
   "metadata": {},
   "outputs": [],
   "source": []
  }
 ],
 "metadata": {
  "kernelspec": {
   "display_name": "Python 3",
   "language": "python",
   "name": "python3"
  },
  "language_info": {
   "codemirror_mode": {
    "name": "ipython",
    "version": 3
   },
   "file_extension": ".py",
   "mimetype": "text/x-python",
   "name": "python",
   "nbconvert_exporter": "python",
   "pygments_lexer": "ipython3",
   "version": "3.8.8"
  }
 },
 "nbformat": 4,
 "nbformat_minor": 4
}
