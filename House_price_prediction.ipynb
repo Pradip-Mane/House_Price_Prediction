{
 "cells": [
  {
   "cell_type": "markdown",
   "metadata": {},
   "source": [
    "# Housing "
   ]
  },
  {
   "cell_type": "code",
   "execution_count": 107,
   "metadata": {},
   "outputs": [],
   "source": [
    "import pandas as pd\n",
    "import numpy as np\n",
    "import matplotlib.pyplot as plt"
   ]
  },
  {
   "cell_type": "code",
   "execution_count": 108,
   "metadata": {},
   "outputs": [
    {
     "data": {
      "text/html": [
       "<div>\n",
       "<style scoped>\n",
       "    .dataframe tbody tr th:only-of-type {\n",
       "        vertical-align: middle;\n",
       "    }\n",
       "\n",
       "    .dataframe tbody tr th {\n",
       "        vertical-align: top;\n",
       "    }\n",
       "\n",
       "    .dataframe thead th {\n",
       "        text-align: right;\n",
       "    }\n",
       "</style>\n",
       "<table border=\"1\" class=\"dataframe\">\n",
       "  <thead>\n",
       "    <tr style=\"text-align: right;\">\n",
       "      <th></th>\n",
       "      <th>price</th>\n",
       "      <th>area</th>\n",
       "      <th>bedrooms</th>\n",
       "      <th>bathrooms</th>\n",
       "      <th>stories</th>\n",
       "      <th>mainroad</th>\n",
       "      <th>guestroom</th>\n",
       "      <th>basement</th>\n",
       "      <th>hotwaterheating</th>\n",
       "      <th>airconditioning</th>\n",
       "      <th>parking</th>\n",
       "      <th>prefarea</th>\n",
       "      <th>furnishingstatus</th>\n",
       "    </tr>\n",
       "  </thead>\n",
       "  <tbody>\n",
       "    <tr>\n",
       "      <th>0</th>\n",
       "      <td>13300000</td>\n",
       "      <td>7420</td>\n",
       "      <td>4</td>\n",
       "      <td>2</td>\n",
       "      <td>3</td>\n",
       "      <td>yes</td>\n",
       "      <td>no</td>\n",
       "      <td>no</td>\n",
       "      <td>no</td>\n",
       "      <td>yes</td>\n",
       "      <td>2</td>\n",
       "      <td>yes</td>\n",
       "      <td>furnished</td>\n",
       "    </tr>\n",
       "    <tr>\n",
       "      <th>1</th>\n",
       "      <td>12250000</td>\n",
       "      <td>8960</td>\n",
       "      <td>4</td>\n",
       "      <td>4</td>\n",
       "      <td>4</td>\n",
       "      <td>yes</td>\n",
       "      <td>no</td>\n",
       "      <td>no</td>\n",
       "      <td>no</td>\n",
       "      <td>yes</td>\n",
       "      <td>3</td>\n",
       "      <td>no</td>\n",
       "      <td>furnished</td>\n",
       "    </tr>\n",
       "    <tr>\n",
       "      <th>2</th>\n",
       "      <td>12250000</td>\n",
       "      <td>9960</td>\n",
       "      <td>3</td>\n",
       "      <td>2</td>\n",
       "      <td>2</td>\n",
       "      <td>yes</td>\n",
       "      <td>no</td>\n",
       "      <td>yes</td>\n",
       "      <td>no</td>\n",
       "      <td>no</td>\n",
       "      <td>2</td>\n",
       "      <td>yes</td>\n",
       "      <td>semi-furnished</td>\n",
       "    </tr>\n",
       "    <tr>\n",
       "      <th>3</th>\n",
       "      <td>12215000</td>\n",
       "      <td>7500</td>\n",
       "      <td>4</td>\n",
       "      <td>2</td>\n",
       "      <td>2</td>\n",
       "      <td>yes</td>\n",
       "      <td>no</td>\n",
       "      <td>yes</td>\n",
       "      <td>no</td>\n",
       "      <td>yes</td>\n",
       "      <td>3</td>\n",
       "      <td>yes</td>\n",
       "      <td>furnished</td>\n",
       "    </tr>\n",
       "    <tr>\n",
       "      <th>4</th>\n",
       "      <td>11410000</td>\n",
       "      <td>7420</td>\n",
       "      <td>4</td>\n",
       "      <td>1</td>\n",
       "      <td>2</td>\n",
       "      <td>yes</td>\n",
       "      <td>yes</td>\n",
       "      <td>yes</td>\n",
       "      <td>no</td>\n",
       "      <td>yes</td>\n",
       "      <td>2</td>\n",
       "      <td>no</td>\n",
       "      <td>furnished</td>\n",
       "    </tr>\n",
       "  </tbody>\n",
       "</table>\n",
       "</div>"
      ],
      "text/plain": [
       "      price  area  bedrooms  bathrooms  stories mainroad guestroom basement  \\\n",
       "0  13300000  7420         4          2        3      yes        no       no   \n",
       "1  12250000  8960         4          4        4      yes        no       no   \n",
       "2  12250000  9960         3          2        2      yes        no      yes   \n",
       "3  12215000  7500         4          2        2      yes        no      yes   \n",
       "4  11410000  7420         4          1        2      yes       yes      yes   \n",
       "\n",
       "  hotwaterheating airconditioning  parking prefarea furnishingstatus  \n",
       "0              no             yes        2      yes        furnished  \n",
       "1              no             yes        3       no        furnished  \n",
       "2              no              no        2      yes   semi-furnished  \n",
       "3              no             yes        3      yes        furnished  \n",
       "4              no             yes        2       no        furnished  "
      ]
     },
     "execution_count": 108,
     "metadata": {},
     "output_type": "execute_result"
    }
   ],
   "source": [
    "hs= pd.read_csv(\"Housing.csv\")\n",
    "hs.head()"
   ]
  },
  {
   "cell_type": "code",
   "execution_count": 109,
   "metadata": {},
   "outputs": [
    {
     "data": {
      "text/plain": [
       "(545, 13)"
      ]
     },
     "execution_count": 109,
     "metadata": {},
     "output_type": "execute_result"
    }
   ],
   "source": [
    "hs.shape"
   ]
  },
  {
   "cell_type": "code",
   "execution_count": 110,
   "metadata": {},
   "outputs": [
    {
     "data": {
      "text/html": [
       "<div>\n",
       "<style scoped>\n",
       "    .dataframe tbody tr th:only-of-type {\n",
       "        vertical-align: middle;\n",
       "    }\n",
       "\n",
       "    .dataframe tbody tr th {\n",
       "        vertical-align: top;\n",
       "    }\n",
       "\n",
       "    .dataframe thead th {\n",
       "        text-align: right;\n",
       "    }\n",
       "</style>\n",
       "<table border=\"1\" class=\"dataframe\">\n",
       "  <thead>\n",
       "    <tr style=\"text-align: right;\">\n",
       "      <th></th>\n",
       "      <th>price</th>\n",
       "      <th>area</th>\n",
       "      <th>bedrooms</th>\n",
       "      <th>bathrooms</th>\n",
       "      <th>stories</th>\n",
       "      <th>parking</th>\n",
       "    </tr>\n",
       "  </thead>\n",
       "  <tbody>\n",
       "    <tr>\n",
       "      <th>count</th>\n",
       "      <td>5.450000e+02</td>\n",
       "      <td>545.000000</td>\n",
       "      <td>545.000000</td>\n",
       "      <td>545.000000</td>\n",
       "      <td>545.000000</td>\n",
       "      <td>545.000000</td>\n",
       "    </tr>\n",
       "    <tr>\n",
       "      <th>mean</th>\n",
       "      <td>4.766729e+06</td>\n",
       "      <td>5150.541284</td>\n",
       "      <td>2.965138</td>\n",
       "      <td>1.286239</td>\n",
       "      <td>1.805505</td>\n",
       "      <td>0.693578</td>\n",
       "    </tr>\n",
       "    <tr>\n",
       "      <th>std</th>\n",
       "      <td>1.870440e+06</td>\n",
       "      <td>2170.141023</td>\n",
       "      <td>0.738064</td>\n",
       "      <td>0.502470</td>\n",
       "      <td>0.867492</td>\n",
       "      <td>0.861586</td>\n",
       "    </tr>\n",
       "    <tr>\n",
       "      <th>min</th>\n",
       "      <td>1.750000e+06</td>\n",
       "      <td>1650.000000</td>\n",
       "      <td>1.000000</td>\n",
       "      <td>1.000000</td>\n",
       "      <td>1.000000</td>\n",
       "      <td>0.000000</td>\n",
       "    </tr>\n",
       "    <tr>\n",
       "      <th>25%</th>\n",
       "      <td>3.430000e+06</td>\n",
       "      <td>3600.000000</td>\n",
       "      <td>2.000000</td>\n",
       "      <td>1.000000</td>\n",
       "      <td>1.000000</td>\n",
       "      <td>0.000000</td>\n",
       "    </tr>\n",
       "    <tr>\n",
       "      <th>50%</th>\n",
       "      <td>4.340000e+06</td>\n",
       "      <td>4600.000000</td>\n",
       "      <td>3.000000</td>\n",
       "      <td>1.000000</td>\n",
       "      <td>2.000000</td>\n",
       "      <td>0.000000</td>\n",
       "    </tr>\n",
       "    <tr>\n",
       "      <th>75%</th>\n",
       "      <td>5.740000e+06</td>\n",
       "      <td>6360.000000</td>\n",
       "      <td>3.000000</td>\n",
       "      <td>2.000000</td>\n",
       "      <td>2.000000</td>\n",
       "      <td>1.000000</td>\n",
       "    </tr>\n",
       "    <tr>\n",
       "      <th>max</th>\n",
       "      <td>1.330000e+07</td>\n",
       "      <td>16200.000000</td>\n",
       "      <td>6.000000</td>\n",
       "      <td>4.000000</td>\n",
       "      <td>4.000000</td>\n",
       "      <td>3.000000</td>\n",
       "    </tr>\n",
       "  </tbody>\n",
       "</table>\n",
       "</div>"
      ],
      "text/plain": [
       "              price          area    bedrooms   bathrooms     stories  \\\n",
       "count  5.450000e+02    545.000000  545.000000  545.000000  545.000000   \n",
       "mean   4.766729e+06   5150.541284    2.965138    1.286239    1.805505   \n",
       "std    1.870440e+06   2170.141023    0.738064    0.502470    0.867492   \n",
       "min    1.750000e+06   1650.000000    1.000000    1.000000    1.000000   \n",
       "25%    3.430000e+06   3600.000000    2.000000    1.000000    1.000000   \n",
       "50%    4.340000e+06   4600.000000    3.000000    1.000000    2.000000   \n",
       "75%    5.740000e+06   6360.000000    3.000000    2.000000    2.000000   \n",
       "max    1.330000e+07  16200.000000    6.000000    4.000000    4.000000   \n",
       "\n",
       "          parking  \n",
       "count  545.000000  \n",
       "mean     0.693578  \n",
       "std      0.861586  \n",
       "min      0.000000  \n",
       "25%      0.000000  \n",
       "50%      0.000000  \n",
       "75%      1.000000  \n",
       "max      3.000000  "
      ]
     },
     "execution_count": 110,
     "metadata": {},
     "output_type": "execute_result"
    }
   ],
   "source": [
    "hs.describe()"
   ]
  },
  {
   "cell_type": "code",
   "execution_count": 111,
   "metadata": {},
   "outputs": [
    {
     "name": "stdout",
     "output_type": "stream",
     "text": [
      "<class 'pandas.core.frame.DataFrame'>\n",
      "RangeIndex: 545 entries, 0 to 544\n",
      "Data columns (total 13 columns):\n",
      " #   Column            Non-Null Count  Dtype \n",
      "---  ------            --------------  ----- \n",
      " 0   price             545 non-null    int64 \n",
      " 1   area              545 non-null    int64 \n",
      " 2   bedrooms          545 non-null    int64 \n",
      " 3   bathrooms         545 non-null    int64 \n",
      " 4   stories           545 non-null    int64 \n",
      " 5   mainroad          545 non-null    object\n",
      " 6   guestroom         545 non-null    object\n",
      " 7   basement          545 non-null    object\n",
      " 8   hotwaterheating   545 non-null    object\n",
      " 9   airconditioning   545 non-null    object\n",
      " 10  parking           545 non-null    int64 \n",
      " 11  prefarea          545 non-null    object\n",
      " 12  furnishingstatus  545 non-null    object\n",
      "dtypes: int64(6), object(7)\n",
      "memory usage: 55.5+ KB\n"
     ]
    }
   ],
   "source": [
    "hs.info()"
   ]
  },
  {
   "cell_type": "code",
   "execution_count": 112,
   "metadata": {},
   "outputs": [
    {
     "data": {
      "text/html": [
       "<div>\n",
       "<style scoped>\n",
       "    .dataframe tbody tr th:only-of-type {\n",
       "        vertical-align: middle;\n",
       "    }\n",
       "\n",
       "    .dataframe tbody tr th {\n",
       "        vertical-align: top;\n",
       "    }\n",
       "\n",
       "    .dataframe thead th {\n",
       "        text-align: right;\n",
       "    }\n",
       "</style>\n",
       "<table border=\"1\" class=\"dataframe\">\n",
       "  <thead>\n",
       "    <tr style=\"text-align: right;\">\n",
       "      <th></th>\n",
       "      <th>price</th>\n",
       "      <th>area</th>\n",
       "      <th>bedrooms</th>\n",
       "      <th>bathrooms</th>\n",
       "      <th>stories</th>\n",
       "      <th>parking</th>\n",
       "    </tr>\n",
       "  </thead>\n",
       "  <tbody>\n",
       "    <tr>\n",
       "      <th>price</th>\n",
       "      <td>1.000000</td>\n",
       "      <td>0.535997</td>\n",
       "      <td>0.366494</td>\n",
       "      <td>0.517545</td>\n",
       "      <td>0.420712</td>\n",
       "      <td>0.384394</td>\n",
       "    </tr>\n",
       "    <tr>\n",
       "      <th>area</th>\n",
       "      <td>0.535997</td>\n",
       "      <td>1.000000</td>\n",
       "      <td>0.151858</td>\n",
       "      <td>0.193820</td>\n",
       "      <td>0.083996</td>\n",
       "      <td>0.352980</td>\n",
       "    </tr>\n",
       "    <tr>\n",
       "      <th>bedrooms</th>\n",
       "      <td>0.366494</td>\n",
       "      <td>0.151858</td>\n",
       "      <td>1.000000</td>\n",
       "      <td>0.373930</td>\n",
       "      <td>0.408564</td>\n",
       "      <td>0.139270</td>\n",
       "    </tr>\n",
       "    <tr>\n",
       "      <th>bathrooms</th>\n",
       "      <td>0.517545</td>\n",
       "      <td>0.193820</td>\n",
       "      <td>0.373930</td>\n",
       "      <td>1.000000</td>\n",
       "      <td>0.326165</td>\n",
       "      <td>0.177496</td>\n",
       "    </tr>\n",
       "    <tr>\n",
       "      <th>stories</th>\n",
       "      <td>0.420712</td>\n",
       "      <td>0.083996</td>\n",
       "      <td>0.408564</td>\n",
       "      <td>0.326165</td>\n",
       "      <td>1.000000</td>\n",
       "      <td>0.045547</td>\n",
       "    </tr>\n",
       "    <tr>\n",
       "      <th>parking</th>\n",
       "      <td>0.384394</td>\n",
       "      <td>0.352980</td>\n",
       "      <td>0.139270</td>\n",
       "      <td>0.177496</td>\n",
       "      <td>0.045547</td>\n",
       "      <td>1.000000</td>\n",
       "    </tr>\n",
       "  </tbody>\n",
       "</table>\n",
       "</div>"
      ],
      "text/plain": [
       "              price      area  bedrooms  bathrooms   stories   parking\n",
       "price      1.000000  0.535997  0.366494   0.517545  0.420712  0.384394\n",
       "area       0.535997  1.000000  0.151858   0.193820  0.083996  0.352980\n",
       "bedrooms   0.366494  0.151858  1.000000   0.373930  0.408564  0.139270\n",
       "bathrooms  0.517545  0.193820  0.373930   1.000000  0.326165  0.177496\n",
       "stories    0.420712  0.083996  0.408564   0.326165  1.000000  0.045547\n",
       "parking    0.384394  0.352980  0.139270   0.177496  0.045547  1.000000"
      ]
     },
     "execution_count": 112,
     "metadata": {},
     "output_type": "execute_result"
    }
   ],
   "source": [
    "hs.corr()"
   ]
  },
  {
   "cell_type": "code",
   "execution_count": 113,
   "metadata": {},
   "outputs": [
    {
     "data": {
      "image/png": "[encoded data removed]",
      "text/plain": [
       "<Figure size 432x288 with 6 Axes>"
      ]
     },
     "metadata": {
      "needs_background": "light"
     },
     "output_type": "display_data"
    }
   ],
   "source": [
    "hs.plot(kind=\"box\", subplots=True);"
   ]
  },
  {
   "cell_type": "code",
   "execution_count": 114,
   "metadata": {},
   "outputs": [],
   "source": [
    "Q1,Q3=hs[\"price\"].quantile([0.25,0.75])\n",
    "IQR=Q3-Q1\n",
    "UL=Q3+1.5*IQR\n",
    "LL=Q1-1.5*IQR\n",
    "\n",
    "hs[\"price\"]=np.where(hs[\"price\"]>UL, UL, hs[\"price\"])"
   ]
  },
  {
   "cell_type": "code",
   "execution_count": 117,
   "metadata": {},
   "outputs": [],
   "source": [
    "Q1,Q3=hs[\"area\"].quantile([0.25,0.75])\n",
    "IQR=Q3-Q1\n",
    "UL=Q3+1.5*IQR\n",
    "LL=Q1-1.5*IQR\n",
    "\n",
    "hs[\"area\"]=np.where(hs[\"area\"]>UL, UL, hs[\"area\"])"
   ]
  },
  {
   "cell_type": "code",
   "execution_count": 118,
   "metadata": {},
   "outputs": [],
   "source": [
    "Q1,Q3=hs[\"bedrooms\"].quantile([0.25,0.75])\n",
    "IQR=Q3-Q1\n",
    "UL=Q3+1.5*IQR\n",
    "LL=Q1-1.5*IQR\n",
    "\n",
    "hs[\"bedrooms\"]=np.where(hs[\"bedrooms\"]>UL, UL, hs[\"bedrooms\"])"
   ]
  },
  {
   "cell_type": "code",
   "execution_count": 120,
   "metadata": {},
   "outputs": [],
   "source": [
    "Q1,Q3=hs[\"bathrooms\"].quantile([0.25,0.75])\n",
    "IQR=Q3-Q1\n",
    "UL=Q3+1.5*IQR\n",
    "LL=Q1-1.5*IQR\n",
    "\n",
    "hs[\"bathrooms\"]=np.where(hs[\"bathrooms\"]>UL, UL, hs[\"bathrooms\"])"
   ]
  },
  {
   "cell_type": "code",
   "execution_count": 121,
   "metadata": {},
   "outputs": [],
   "source": [
    "Q1,Q3=hs[\"stories\"].quantile([0.25,0.75])\n",
    "IQR=Q3-Q1\n",
    "UL=Q3+1.5*IQR\n",
    "LL=Q1-1.5*IQR\n",
    "\n",
    "hs[\"stories\"]=np.where(hs[\"stories\"]>UL, UL, hs[\"stories\"])"
   ]
  },
  {
   "cell_type": "code",
   "execution_count": 122,
   "metadata": {},
   "outputs": [],
   "source": [
    "Q1,Q3=hs[\"parking\"].quantile([0.25,0.75])\n",
    "IQR=Q3-Q1\n",
    "UL=Q3+1.5*IQR\n",
    "LL=Q1-1.5*IQR\n",
    "\n",
    "hs[\"parking\"]=np.where(hs[\"parking\"]>UL, UL, hs[\"parking\"])"
   ]
  },
  {
   "cell_type": "code",
   "execution_count": 123,
   "metadata": {},
   "outputs": [
    {
     "data": {
      "image/png": "[encoded data removed]",
      "text/plain": [
       "<Figure size 432x288 with 6 Axes>"
      ]
     },
     "metadata": {
      "needs_background": "light"
     },
     "output_type": "display_data"
    }
   ],
   "source": [
    "hs.plot(kind=\"box\", subplots=True);"
   ]
  },
  {
   "cell_type": "code",
   "execution_count": 125,
   "metadata": {},
   "outputs": [
    {
     "data": {
      "text/plain": [
       "yes    468\n",
       "no      77\n",
       "Name: mainroad, dtype: int64"
      ]
     },
     "execution_count": 125,
     "metadata": {},
     "output_type": "execute_result"
    }
   ],
   "source": [
    "hs.mainroad.value_counts()"
   ]
  },
  {
   "cell_type": "code",
   "execution_count": 126,
   "metadata": {},
   "outputs": [
    {
     "data": {
      "text/plain": [
       "no     448\n",
       "yes     97\n",
       "Name: guestroom, dtype: int64"
      ]
     },
     "execution_count": 126,
     "metadata": {},
     "output_type": "execute_result"
    }
   ],
   "source": [
    "hs.guestroom.value_counts()"
   ]
  },
  {
   "cell_type": "code",
   "execution_count": 127,
   "metadata": {},
   "outputs": [
    {
     "data": {
      "text/plain": [
       "no     354\n",
       "yes    191\n",
       "Name: basement, dtype: int64"
      ]
     },
     "execution_count": 127,
     "metadata": {},
     "output_type": "execute_result"
    }
   ],
   "source": [
    "hs.basement.value_counts()"
   ]
  },
  {
   "cell_type": "code",
   "execution_count": 128,
   "metadata": {},
   "outputs": [
    {
     "data": {
      "text/plain": [
       "no     520\n",
       "yes     25\n",
       "Name: hotwaterheating, dtype: int64"
      ]
     },
     "execution_count": 128,
     "metadata": {},
     "output_type": "execute_result"
    }
   ],
   "source": [
    "hs.hotwaterheating.value_counts()"
   ]
  },
  {
   "cell_type": "code",
   "execution_count": 129,
   "metadata": {},
   "outputs": [
    {
     "data": {
      "text/plain": [
       "no     373\n",
       "yes    172\n",
       "Name: airconditioning, dtype: int64"
      ]
     },
     "execution_count": 129,
     "metadata": {},
     "output_type": "execute_result"
    }
   ],
   "source": [
    "hs.airconditioning.value_counts()"
   ]
  },
  {
   "cell_type": "code",
   "execution_count": 130,
   "metadata": {},
   "outputs": [
    {
     "data": {
      "text/plain": [
       "no     417\n",
       "yes    128\n",
       "Name: prefarea, dtype: int64"
      ]
     },
     "execution_count": 130,
     "metadata": {},
     "output_type": "execute_result"
    }
   ],
   "source": [
    "hs.prefarea.value_counts()"
   ]
  },
  {
   "cell_type": "code",
   "execution_count": 131,
   "metadata": {},
   "outputs": [
    {
     "data": {
      "text/plain": [
       "semi-furnished    227\n",
       "unfurnished       178\n",
       "furnished         140\n",
       "Name: furnishingstatus, dtype: int64"
      ]
     },
     "execution_count": 131,
     "metadata": {},
     "output_type": "execute_result"
    }
   ],
   "source": [
    "hs.furnishingstatus.value_counts()"
   ]
  },
  {
   "cell_type": "code",
   "execution_count": 132,
   "metadata": {},
   "outputs": [],
   "source": [
    "new_hs = pd.get_dummies(hs, drop_first=True)"
   ]
  },
  {
   "cell_type": "code",
   "execution_count": 133,
   "metadata": {},
   "outputs": [],
   "source": [
    "X = new_hs.iloc[:,1:]\n",
    "y = new_hs.iloc[:,0]"
   ]
  },
  {
   "cell_type": "code",
   "execution_count": 134,
   "metadata": {},
   "outputs": [
    {
     "data": {
      "text/plain": [
       "((545, 13), (545,))"
      ]
     },
     "execution_count": 134,
     "metadata": {},
     "output_type": "execute_result"
    }
   ],
   "source": [
    "X.shape, y.shape"
   ]
  },
  {
   "cell_type": "code",
   "execution_count": 135,
   "metadata": {},
   "outputs": [],
   "source": [
    "from sklearn.model_selection import train_test_split\n",
    "# Create training and test sets\n",
    "X_train, X_test, y_train, y_test = train_test_split(X, y,test_size = 0.3, random_state=2020)"
   ]
  },
  {
   "cell_type": "code",
   "execution_count": 136,
   "metadata": {},
   "outputs": [
    {
     "data": {
      "text/plain": [
       "((381, 13), (164, 13))"
      ]
     },
     "execution_count": 136,
     "metadata": {},
     "output_type": "execute_result"
    }
   ],
   "source": [
    "X_train.shape, X_test.shape"
   ]
  },
  {
   "cell_type": "code",
   "execution_count": 137,
   "metadata": {},
   "outputs": [
    {
     "data": {
      "text/plain": [
       "array([ 2.77174000e+02,  8.22181390e+04,  8.89720043e+05,  5.67274656e+05,\n",
       "        2.67499077e+05,  4.39812272e+05,  2.35750442e+05,  3.95019450e+05,\n",
       "        7.55014242e+05,  6.73164929e+05,  4.82432887e+05,  9.19001620e+04,\n",
       "       -1.71316195e+05])"
      ]
     },
     "execution_count": 137,
     "metadata": {},
     "output_type": "execute_result"
    }
   ],
   "source": [
    "from sklearn.linear_model import LinearRegression\n",
    "lr=LinearRegression()\n",
    "lr.fit(X_train,y_train)\n",
    "lr.coef_.round(3)"
   ]
  },
  {
   "cell_type": "code",
   "execution_count": 138,
   "metadata": {},
   "outputs": [
    {
     "data": {
      "text/plain": [
       "-171145.30057401117"
      ]
     },
     "execution_count": 138,
     "metadata": {},
     "output_type": "execute_result"
    }
   ],
   "source": [
    "lr.intercept_"
   ]
  },
  {
   "cell_type": "code",
   "execution_count": 139,
   "metadata": {},
   "outputs": [],
   "source": [
    "p_train=lr.predict(X_train)\n",
    "p_test=lr.predict(X_test)"
   ]
  },
  {
   "cell_type": "code",
   "execution_count": 140,
   "metadata": {},
   "outputs": [],
   "source": [
    "from sklearn.metrics import mean_squared_error, r2_score"
   ]
  },
  {
   "cell_type": "code",
   "execution_count": 141,
   "metadata": {},
   "outputs": [],
   "source": [
    "RMSE_Train=mean_squared_error(y_train, p_train, squared=False)\n",
    "RMSE_Test=mean_squared_error(y_test, p_test, squared=False)"
   ]
  },
  {
   "cell_type": "code",
   "execution_count": 142,
   "metadata": {},
   "outputs": [
    {
     "data": {
      "text/plain": [
       "0.20155456925232343"
      ]
     },
     "execution_count": 142,
     "metadata": {},
     "output_type": "execute_result"
    }
   ],
   "source": [
    "RMSE_Train/y_train.mean()"
   ]
  },
  {
   "cell_type": "code",
   "execution_count": 143,
   "metadata": {},
   "outputs": [
    {
     "data": {
      "text/plain": [
       "0.21788892584047484"
      ]
     },
     "execution_count": 143,
     "metadata": {},
     "output_type": "execute_result"
    }
   ],
   "source": [
    "RMSE_Test/y_test.mean()"
   ]
  },
  {
   "cell_type": "code",
   "execution_count": 144,
   "metadata": {},
   "outputs": [],
   "source": [
    "r2_train=r2_score(y_train, p_train)\n",
    "r2_test=r2_score(y_test, p_test)"
   ]
  },
  {
   "cell_type": "code",
   "execution_count": 145,
   "metadata": {},
   "outputs": [
    {
     "data": {
      "text/plain": [
       "(0.6944163962293924, 0.6679833868208256)"
      ]
     },
     "execution_count": 145,
     "metadata": {},
     "output_type": "execute_result"
    }
   ],
   "source": [
    "r2_train, r2_test"
   ]
  },
  {
   "cell_type": "code",
   "execution_count": 147,
   "metadata": {},
   "outputs": [],
   "source": [
    "# Pickling of model\n",
    "import pickle\n",
    "pickle.dump(lr, open(\"Housing_reg_model.pkl\", 'wb'))"
   ]
  },
  {
   "cell_type": "code",
   "execution_count": 148,
   "metadata": {},
   "outputs": [
    {
     "data": {
      "text/plain": [
       "array([7826028.9850553 , 9522410.64705221, 7694312.27110166,\n",
       "       7809697.22004044, 6517371.29107636, 8008075.0918304 ,\n",
       "       9412808.10099686, 7181366.51328854, 7188282.34758814,\n",
       "       7361503.1337734 , 7535530.83509155, 8076974.08711826,\n",
       "       6842014.22727588, 5771649.54424218, 6165599.30565257,\n",
       "       5306769.31767363, 7223426.45043808, 7844362.96761438,\n",
       "       6148223.68982319, 6723763.49726722, 5513913.47348555,\n",
       "       6512831.29244879, 5774998.89966087, 6264657.11183157,\n",
       "       7076603.11720092, 7645611.29605061, 7821533.30916551,\n",
       "       4791632.60852515, 7269885.18222396, 6946001.21015225,\n",
       "       7388943.64949265, 6630782.41972072, 6287233.85505167,\n",
       "       6697939.32020668, 6130220.4920225 , 7428602.30007039,\n",
       "       7575345.85701986, 8065167.99561723, 6326142.72544495,\n",
       "       7058047.74587352, 5905696.25653046, 7198645.81511488,\n",
       "       7113155.7400218 , 6652381.89414695, 6966147.58351496,\n",
       "       6424693.20206363, 6883929.44469344, 7044195.1717494 ,\n",
       "       5112360.36367097, 6802476.91013731, 6921011.44871999,\n",
       "       5912974.68465308, 7201898.02526042, 7007730.97245802,\n",
       "       6360668.0648752 , 4971981.22276295, 6768985.1305165 ,\n",
       "       8515852.24757358, 7759450.13526826, 7119679.88643891,\n",
       "       5687503.13613436, 5383965.26733629, 6181757.30639973,\n",
       "       7532224.77999087, 6700757.1021291 , 7226297.39261282,\n",
       "       6217955.38962429, 5359956.18101297, 4576022.76211478,\n",
       "       7439284.63772329, 6180523.32677245, 6527332.31120067,\n",
       "       5766196.71410068, 6904803.90451673, 5076905.57617117,\n",
       "       5539203.62412781, 6931638.91384255, 6953812.81611157,\n",
       "       5873572.48474805, 6568543.48145054, 5799479.78118854,\n",
       "       5965589.51656157, 7590477.14483733, 6708330.53003772,\n",
       "       4963676.70744529, 6956434.04102107, 5661750.64184131,\n",
       "       4091842.0150441 , 6176223.4504482 , 7355507.20816079,\n",
       "       4690524.72504456, 5409221.88446649, 6519572.27538943,\n",
       "       6686519.56689535, 6384882.81713267, 6433061.17720313,\n",
       "       5611831.50584426, 5891995.21494619, 6810213.99864783,\n",
       "       5794012.79090531, 6070684.13690865, 5209936.94801411,\n",
       "       7072993.15961613, 6665554.30387747, 6034692.84304291,\n",
       "       5139633.46212693, 6097368.78827166, 5592457.19725065,\n",
       "       4446525.8181694 , 6695197.39093163, 5541764.11889217,\n",
       "       6464211.15800164, 4744485.2400318 , 6051178.32544339,\n",
       "       4940647.68615947, 6602972.33734074, 5716421.78342207,\n",
       "       4556267.23138152, 5302389.00939514, 6095591.59279986,\n",
       "       5433233.52983185, 6422102.20369946, 5914550.65434868,\n",
       "       5540440.98127629, 6356280.749593  , 6182704.00411961,\n",
       "       5198014.63537123, 6300063.7335864 , 5807735.62657526,\n",
       "       7126521.27450028, 3762203.91892708, 5415740.24927725,\n",
       "       5313234.13666527, 4939148.26766164, 5416883.18849177,\n",
       "       6445114.17237915, 6045114.21428937, 4267294.45192896,\n",
       "       5257799.38099274, 6056507.17846741, 6389679.41670662,\n",
       "       6830108.30605756, 6781252.8358424 , 5989252.01066445,\n",
       "       5495959.53691563, 4776371.61786743, 5159821.85954297,\n",
       "       5313165.80520756, 5444023.67805028, 5742953.70464788,\n",
       "       5578206.78037112, 5623869.6381022 , 5946024.06139114,\n",
       "       5720623.90866081, 5067893.39225091, 5965246.66831504,\n",
       "       5089918.0983724 , 4750784.15458939, 4811061.15390485,\n",
       "       5039068.35137776, 6102885.39899407, 6280873.8661623 ,\n",
       "       6545978.80234152, 5742294.99373605, 6669848.69379562,\n",
       "       5864274.93821642, 6048570.78226418, 5354880.6156666 ,\n",
       "       4870753.55567632, 5649498.25361608, 4873411.52240227,\n",
       "       5660445.74278787, 7017900.14697542, 5397556.91370153,\n",
       "       4802236.76075203, 7090480.70974828, 5541999.76060297,\n",
       "       4618569.94501867, 5676193.40139806, 4937621.71642046,\n",
       "       5446806.6939938 , 5915943.8024851 , 3810006.1458112 ,\n",
       "       5025994.96411573, 4891602.01183069, 3594815.332077  ,\n",
       "       5850130.16334347, 5305593.56267765, 5027088.23621077,\n",
       "       3154150.90539044, 5936492.67927901, 6172585.46920101,\n",
       "       4914865.80250505, 3943202.13776413, 5843672.4768088 ,\n",
       "       6645503.09549345, 5580358.04322301, 5193168.71088965,\n",
       "       4953285.46693237, 3971219.68826931, 4952500.76158765,\n",
       "       4630640.07589226, 3786472.60374633, 4210447.4464703 ,\n",
       "       4017105.06323477, 5018574.13499642, 4893540.84486764,\n",
       "       4531196.6184764 , 4021971.68217569, 3663607.68148077,\n",
       "       5085008.32469453, 5417638.91302021, 6154545.94094702,\n",
       "       4815656.90315064, 3319507.1380969 , 4088592.1207687 ,\n",
       "       4755776.91110644, 6132153.17925101, 4472187.66850294,\n",
       "       4703510.44552766, 7412911.16489833, 4551363.40802045,\n",
       "       6125755.49511946, 5627289.65107453, 6247637.2124904 ,\n",
       "       5108909.86365281, 5588556.25128848, 4888824.07345043,\n",
       "       4172629.87397543, 7181136.97036893, 4528444.05605243,\n",
       "       3744039.8582941 , 3972625.99225719, 4257977.62951582,\n",
       "       5526662.81143149, 5382252.41309092, 4457964.28869752,\n",
       "       4415150.98424452, 5248502.27659293, 3915784.93259678,\n",
       "       4445770.17764247, 3641387.8092144 , 4221668.22411278,\n",
       "       3641403.3271138 , 5219258.18450757, 4871357.04010944,\n",
       "       3522300.83560396, 6298412.1003577 , 4638900.53561849,\n",
       "       6007828.85681907, 4171645.52249153, 4250258.96701304,\n",
       "       4797149.7031981 , 3915457.19037207, 5171925.86649693,\n",
       "       4290613.44348155, 4183284.00961106, 4258999.75767565,\n",
       "       4018772.04608984, 4988606.63366099, 4356678.23506971,\n",
       "       3604370.86654335, 3652169.67048333, 3291504.18539672,\n",
       "       4302443.72980311, 3912184.27340003, 4171038.97054719,\n",
       "       4262684.97104899, 4758884.17494795, 3449252.28244623,\n",
       "       6266380.76271723, 3238041.33902399, 4359467.44130128,\n",
       "       4126915.25925124, 4501479.9137511 , 3402682.07187758,\n",
       "       3469061.81153071, 5603450.41779736, 4986332.24233435,\n",
       "       3652923.1777487 , 4048881.63839687, 4345543.03276355,\n",
       "       3835250.06377738, 3830286.55461457, 4311237.28225434,\n",
       "       4710446.97234758, 3622251.74386274, 4565895.25656733,\n",
       "       4833414.76867767, 4769232.75907349, 4776760.41861819,\n",
       "       4254953.09323479, 3925013.18354565, 2768804.92001905,\n",
       "       4272311.92783407, 2836107.66754687, 5736874.33342201,\n",
       "       4661926.59293733, 4961836.55935695, 4581280.22725802,\n",
       "       4329357.40237988, 4089575.49155214, 4280018.92160737,\n",
       "       3614617.53897282, 5414667.06272708, 3855239.51685587,\n",
       "       4240511.06877998, 4297358.07423863, 4415454.53891719,\n",
       "       4670742.91342862, 4118120.76219994, 4324189.7337699 ,\n",
       "       4520758.95441243, 4541210.45157323, 3936553.90726833,\n",
       "       4207336.19729247, 5198244.27623602, 5176644.24515505,\n",
       "       3267150.44663619, 5715687.56727465, 4754412.50591228,\n",
       "       5817364.15896637, 5156740.857939  , 4229702.34423632,\n",
       "       4507145.01438367, 4345895.24518758, 2974837.69951254,\n",
       "       4928428.72239886, 5396865.0570919 , 3637198.90444799,\n",
       "       4521812.9895069 , 6173835.34424317, 4868934.7162092 ,\n",
       "       3463012.23957839, 3824512.99747231, 4550975.61852065,\n",
       "       5511943.46048196, 4244928.16438365, 4227759.53978239,\n",
       "       4392941.53885486, 5113559.18075302, 4683148.37180794,\n",
       "       5195102.53372246, 3112867.12544038, 3049117.15641697,\n",
       "       4067448.4052735 , 3870586.23635667, 3296806.70434676,\n",
       "       3700022.73279177, 3967468.51619844, 4519720.40696619,\n",
       "       2979823.7118263 , 3869703.03394504, 4380906.59630895,\n",
       "       4485856.76262282, 4793997.91170421, 4579712.44287364,\n",
       "       4370309.97038418, 3428995.74564794, 3066324.57000353,\n",
       "       3101780.17430587, 3732802.39428546, 3012651.74973094,\n",
       "       3730403.17365521, 4206494.51378506, 3400695.03943867,\n",
       "       3291258.21297579, 3398087.49625946, 3105445.94804941,\n",
       "       2887923.54946774, 4376464.96388232, 4016020.74340228,\n",
       "       3468110.69820411, 3962058.86713916, 4242389.30242268,\n",
       "       4651000.15777595, 5200936.80586499, 4485579.92361926,\n",
       "       5739947.96446235, 3794082.63197396, 3229280.1123527 ,\n",
       "       3573126.11039653, 3807707.5941314 , 5688828.5304793 ,\n",
       "       2697567.67835741, 2727694.30530225, 3403117.09160848,\n",
       "       4479872.65348894, 3379958.83785556, 3988708.42378017,\n",
       "       3409948.33470762, 3868009.94575661, 3737414.28015743,\n",
       "       3418925.74981136, 2998917.29668985, 3756926.43418398,\n",
       "       3258409.73997509, 3792922.31671615, 3500555.81233763,\n",
       "       4286724.45770057, 3442148.02591127, 6152606.02103801,\n",
       "       3348563.56883461, 4711324.56369164, 3286613.78917216,\n",
       "       2649151.65267341, 3943278.21719096, 4183836.03989309,\n",
       "       2827476.8655128 , 3136578.39017579, 2868118.93757992,\n",
       "       4183836.03989309, 3969150.44574072, 4675935.79472959,\n",
       "       2838563.81664731, 5437301.16925495, 3687267.03042058,\n",
       "       2899010.50060225, 4628763.99269208, 4215953.36830218,\n",
       "       3428012.3748645 , 3035357.1992848 , 2983220.86467537,\n",
       "       2840401.55974365, 3445936.7959351 , 3702914.03563297,\n",
       "       2280873.01612613, 4011580.83410208, 3106062.89366159,\n",
       "       3773997.47733508, 2645068.85507292, 4400089.67974463,\n",
       "       4282759.07496405, 3505960.59739154, 3764752.01086314,\n",
       "       2838563.81664731, 4011580.83410208, 3698280.78467041,\n",
       "       2789467.84071597, 2368262.42939069, 3854424.68905062,\n",
       "       3579523.95827668, 3403380.17894266, 2826077.41878793,\n",
       "       2964560.65898663, 2764129.34389183, 4171773.17260414,\n",
       "       2907313.51251047, 3652022.88614438, 2780818.45965067,\n",
       "       3982759.88999876, 3852921.1136687 , 5661053.06378294,\n",
       "       2836927.15487144, 4288721.47820467, 3719089.25314367,\n",
       "       3211311.85628105, 2865873.88307577, 3435393.59352809,\n",
       "       2688889.97633147, 4231388.43381401, 4161748.07163897,\n",
       "       3185393.44427419, 3206018.61910541, 4819068.08759787,\n",
       "       2772042.10984027, 3048145.6079943 , 4064532.10041399,\n",
       "       2767785.77137886, 3165097.32783041, 2768121.71821582,\n",
       "       3407676.21569183, 4388597.55130409, 3950030.6678816 ,\n",
       "       3484439.77446522, 3380794.10075688, 4652259.67742487,\n",
       "       3093563.69274096, 3193786.95431498, 3025136.44282398,\n",
       "       3423742.45857002, 2198654.87730462, 2801559.6770375 ,\n",
       "       4464995.44835943, 2121577.76664792, 2724922.56751862,\n",
       "       3645040.7798967 , 3947231.08881174, 4459070.98908738,\n",
       "       3373851.17846474, 4156681.53036969, 2449523.52761714,\n",
       "       3765303.58666434, 3069924.24849982, 3603563.44492827,\n",
       "       3744468.73729677, 2827476.8655128 , 2809183.39614087,\n",
       "       3103620.32239421, 4949793.6178135 , 2577086.47029912,\n",
       "       2034719.90066821, 3214061.93543706, 3172911.36199288,\n",
       "       3274745.16488807, 4150134.58902334, 2085545.17546077,\n",
       "       2716607.35416774, 2938346.37685787, 5007436.77529559,\n",
       "       2159448.10093141, 2242600.23444021, 3288893.93839832,\n",
       "       3587839.17162756, 3023199.96794166, 3653021.82553316,\n",
       "       2680262.0410802 , 2817802.16416442, 2924640.41807694,\n",
       "       3627577.49528562, 3853019.84545466, 2286496.1647737 ,\n",
       "       3225595.84357944, 4284012.24395833, 2623476.96463788,\n",
       "       2727694.30530225, 2600194.36725542, 2446096.345315  ,\n",
       "       2297131.24170368, 3863673.89708878, 2656690.72933684,\n",
       "       3985806.46053506, 2110490.81551341, 3033491.61490223,\n",
       "       3282014.02074134, 2917584.72437498, 2999723.80542769,\n",
       "       2839469.97004837, 2730188.86930751, 2375218.15474407,\n",
       "       3480320.69133587, 2289621.04497589, 2722150.82973499,\n",
       "       2339079.50958229, 3435393.59352809])"
      ]
     },
     "execution_count": 148,
     "metadata": {},
     "output_type": "execute_result"
    }
   ],
   "source": [
    "pickled_model=pickle.load(open(\"Housing_reg_model.pkl\", 'rb'))\n",
    "pickled_model.predict(new_hs.drop('price',axis=1))"
   ]
  },
  {
   "cell_type": "code",
   "execution_count": null,
   "metadata": {},
   "outputs": [],
   "source": []
  }
 ],
 "metadata": {
  "kernelspec": {
   "display_name": "Python 3",
   "language": "python",
   "name": "python3"
  },
  "language_info": {
   "codemirror_mode": {
    "name": "ipython",
    "version": 3
   },
   "file_extension": ".py",
   "mimetype": "text/x-python",
   "name": "python",
   "nbconvert_exporter": "python",
   "pygments_lexer": "ipython3",
   "version": "3.8.8"
  }
 },
 "nbformat": 4,
 "nbformat_minor": 4
}
